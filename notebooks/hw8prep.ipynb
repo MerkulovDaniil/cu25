{
  "nbformat": 4,
  "nbformat_minor": 0,
  "metadata": {
    "colab": {
      "provenance": [],
      "toc_visible": true
    },
    "kernelspec": {
      "name": "python3",
      "display_name": "Python 3"
    },
    "language_info": {
      "name": "python"
    }
  },
  "cells": [
    {
      "cell_type": "markdown",
      "source": [
        "*1 задача*\n"
      ],
      "metadata": {
        "id": "d1Q_RlUg7L19"
      }
    },
    {
      "cell_type": "code",
      "source": [
        "import numpy as np\n",
        "import matplotlib.pyplot as plt\n",
        "import matplotlib.animation as animation\n",
        "from IPython.display import HTML\n",
        "\n",
        "# Gradient of the function\n",
        "def grad_f(x):\n",
        "    ...\n",
        "\n",
        "# Heavy Ball method implementation\n",
        "def heavy_ball_method(alpha, beta, x0, num_iterations):\n",
        "    x = np.zeros(num_iterations + 1)\n",
        "    x_prev = x0\n",
        "    x_curr = x0  # Initialize x[1] same as x[0] to start the algorithm\n",
        "    for i in range(num_iterations):\n",
        "        x[i] = x_curr\n",
        "        x_new = x_curr - alpha * grad_f(x_curr) + beta * (x_curr - x_prev)\n",
        "        x_prev = x_curr\n",
        "        x_curr = x_new\n",
        "    x[num_iterations] = x_curr\n",
        "    return x\n",
        "\n",
        "# Parameters\n",
        "L = ...\n",
        "mu = ...\n",
        "alpha_star = ...\n",
        "beta_star = ...\n",
        "x0 = ...\n",
        "num_iterations = 30\n",
        "\n",
        "# Generate the trajectory of the method\n",
        "trajectory = heavy_ball_method(alpha_star, beta_star, x0, num_iterations)\n",
        "\n",
        "# Setup the figure and axes for the animation\n",
        "fig, (ax1, ax2) = plt.subplots(1, 2, figsize=(7, 3.5))\n",
        "fig.suptitle(\"Heavy ball method with optimal hyperparameters α* β*\")\n",
        "\n",
        "# Function for updating the animation\n",
        "def update(i):\n",
        "    ax1.clear()\n",
        "    ax2.clear()\n",
        "\n",
        "    # Plot f(x) and trajectory\n",
        "    x_vals = np.linspace(-4, 4, 100)\n",
        "    f_vals = np.piecewise(x_vals, [x_vals < 1, (x_vals >= 1) & (x_vals < 2), x_vals >= 2],\n",
        "                        [lambda x: 12.5 * x**2, lambda x: .5 * x**2 + 24 * x - 12, lambda x: 12.5 * x**2 - 24 * x + 36])\n",
        "    ax1.plot(x_vals, f_vals, 'b-')\n",
        "    ax1.plot(trajectory[:i], [12.5 * x**2 if x < 1 else .5 * x**2 + 24 * x - 12 if x < 2 else 12.5 * x**2 - 24 * x + 36 for x in trajectory[:i]], 'ro-')\n",
        "    # Add vertical dashed lines at x=1 and x=2 on the left subplot\n",
        "    ax1.axvline(x=1, color='navy', linestyle='--')\n",
        "    ax1.axvline(x=2, color='navy', linestyle='--')\n",
        "\n",
        "    # Plot function value from iteration\n",
        "    f_trajectory = [None for x in trajectory]\n",
        "    f_trajectory[:i] = [12.5 * x**2 if x < 1 else .5 * x**2 + 24 * x - 12 if x < 2 else 12.5 * x**2 - 24 * x + 36 for x in trajectory[:i]]\n",
        "    ax2.plot(range(len(trajectory)), f_trajectory, 'ro-')\n",
        "    ax2.set_xlim(0, len(trajectory))\n",
        "    ax2.set_ylim(min(f_vals), max(f_vals))\n",
        "    # Add horizontal dashed lines at f(1) and f(2) on the right subplot\n",
        "    f_1 = 12.5 * 1.0**2\n",
        "    f_2 = .5 * 2.**2 + 24 * 2. - 12\n",
        "    ax2.axhline(y=f_1, color='navy', linestyle='--')\n",
        "    ax2.axhline(y=f_2, color='navy', linestyle='--')\n",
        "\n",
        "    # ax1.set_title(\"Function f(x) and Trajectory\")\n",
        "    ax1.set_xlabel(\"x\")\n",
        "    ax1.set_ylabel(\"f(x)\")\n",
        "    ax1.grid(linestyle=\":\")\n",
        "\n",
        "    # ax2.set_title(\"Function Value from Iteration\")\n",
        "    ax2.set_xlabel(\"Iteration\")\n",
        "    ax2.set_ylabel(\"f(x)\")\n",
        "    ax2.grid(linestyle=\":\")\n",
        "\n",
        "    plt.tight_layout()\n",
        "\n",
        "# Create the animation\n",
        "ani = animation.FuncAnimation(fig, update, frames=num_iterations, repeat=False, interval=100)\n",
        "HTML(ani.to_jshtml())\n"
      ],
      "metadata": {
        "id": "l6_BBt1i8P9Q"
      },
      "execution_count": null,
      "outputs": []
    },
    {
      "cell_type": "markdown",
      "source": [
        "*2 задача*\n"
      ],
      "metadata": {
        "id": "aDtZfq6D7hkY"
      }
    },
    {
      "cell_type": "markdown",
      "source": [
        "2.2"
      ],
      "metadata": {
        "id": "O3mweqmL7plN"
      }
    },
    {
      "cell_type": "code",
      "source": [
        "import requests\n",
        "from sklearn.datasets import load_svmlight_file\n",
        "\n",
        "# URL of the file to download\n",
        "url = 'https://cu25.fmin.xyz/files/mushrooms.txt'\n",
        "\n",
        "# Download the file and save it locally\n",
        "response = requests.get(url)\n",
        "dataset = 'mushrooms.txt'\n",
        "\n",
        "# Ensure the request was successful\n",
        "if response.status_code == 200:\n",
        "    with open(dataset, 'wb') as f:\n",
        "        f.write(response.content)\n",
        "\n",
        "    # Load the dataset from the downloaded file\n",
        "    data = load_svmlight_file(dataset)\n",
        "    A, b = data[0].toarray(), data[1]\n",
        "    n, d = A.shape\n",
        "\n",
        "    print(\"Data loaded successfully.\")\n",
        "    print(f\"Number of samples: {n}, Number of features: {d}\")\n",
        "else:\n",
        "    print(f\"Failed to download the file. Status code: {response.status_code}\")\n"
      ],
      "metadata": {
        "id": "kZ7jfXJ78n-W"
      },
      "execution_count": null,
      "outputs": []
    },
    {
      "cell_type": "markdown",
      "source": [
        "2.3"
      ],
      "metadata": {
        "id": "SgitusoA8ZGK"
      }
    },
    {
      "cell_type": "code",
      "source": [
        "from sklearn.model_selection import train_test_split\n",
        "# Split the data into training and test sets\n",
        "A_train, A_test, b_train, b_test = train_test_split(A, b, test_size=0.2, random_state=214)"
      ],
      "metadata": {
        "id": "1ANn4A6A8k6j"
      },
      "execution_count": null,
      "outputs": []
    },
    {
      "cell_type": "markdown",
      "source": [
        "2.9"
      ],
      "metadata": {
        "id": "EEuOuH6c-DHC"
      }
    },
    {
      "cell_type": "code",
      "source": [
        "def backtracking_L(f, grad, x, h, L0, rho, maxiter=100):\n",
        "    L = L0\n",
        "    fx = f(x)\n",
        "    gradx = grad(x)\n",
        "    iter = 0\n",
        "    while iter < maxiter:\n",
        "        y = x - 1 / L * h\n",
        "        if f(y) <= fx - 1 / L * gradx.dot(h) + 1 / (2 * L) * h.dot(h):\n",
        "            break\n",
        "        else:\n",
        "            L = L * rho\n",
        "\n",
        "        iter += 1\n",
        "    return L\n"
      ],
      "metadata": {
        "id": "KZ_3PNEc-FZJ"
      },
      "execution_count": null,
      "outputs": []
    }
  ]
}